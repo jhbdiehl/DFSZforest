{
 "cells": [
  {
   "cell_type": "markdown",
   "metadata": {},
   "source": [
    "# Basic usage of the DFSZforest package\n",
    "© Johannes Diehl\n",
    "\n",
    "Compute anomaly ratios for different DFSZ-type models. This code has been used for the paper [*DFSZ axions and where to find them*](https://arxiv.com) by [Emmanouil Koutsangelas]() and [Johannes Diehl](https://scholar.google.com/citations?hl=en&user=BrHSTFwAAAAJ). The data files included can also be found separately on [Zenodo](https://zenodo.org)."
   ]
  },
  {
   "cell_type": "code",
   "execution_count": 3,
   "metadata": {},
   "outputs": [],
   "source": [
    "using LinearAlgebra, StaticArrays\n",
    "using Random, Statistics, StatsBase\n",
    "using BenchmarkTools\n",
    "using Base.Threads\n",
    "using Plots\n",
    "using Random: default_rng\n",
    "using Symbolics\n",
    "using Combinatorics\n",
    "using FileIO, JLD2, HDF5\n",
    "using LaTeXStrings, Printf\n",
    "\n",
    "include(\"./src/drawer.jl\")\n",
    "include(\"./src/helpers.jl\")\n",
    "\n",
    "@variables u1::Int u2::Int u3::Int d1::Int d2::Int d3::Int l1::Int l2::Int l3::Int ;"
   ]
  },
  {
   "cell_type": "markdown",
   "metadata": {},
   "source": [
    "## Understanding a single Yukawa sector\n",
    "\n",
    "Let us first understand how to handle one Yukawa sector on its own, before moving on to calculate anomaly ratios for many different models in bulk.\n",
    "\n",
    "Start by defining a Yukawa sector:"
   ]
  },
  {
   "cell_type": "code",
   "execution_count": 6,
   "metadata": {},
   "outputs": [],
   "source": [
    "yukawa = [u1,u1,u3,d1,d1,d3,l1,l1,l1];"
   ]
  },
  {
   "cell_type": "markdown",
   "metadata": {},
   "source": [
    "We have just defined one specific Yukawa sector with five Higgs doublets $n_D=5$.\n",
    "To calculate anomaly ratios we need to specify the explicit symmetry breaking potential. To do this we need bilinears and quadrilinears. We get them using"
   ]
  },
  {
   "cell_type": "code",
   "execution_count": 12,
   "metadata": {},
   "outputs": [
    {
     "data": {
      "text/latex": [
       "\\begin{equation}\n",
       "\\left[\n",
       "\\begin{array}{c}\n",
       "u1 - u3 \\\\\n",
       "d1 + u1 \\\\\n",
       "d3 + u1 \\\\\n",
       "l1 + u1 \\\\\n",
       "d1 + u3 \\\\\n",
       "d3 + u3 \\\\\n",
       "l1 + u3 \\\\\n",
       "d1 - d3 \\\\\n",
       "d1 - l1 \\\\\n",
       "d3 - l1 \\\\\n",
       "u3 - u1 \\\\\n",
       " - d1 - u1 \\\\\n",
       " - d3 - u1 \\\\\n",
       " - l1 - u1 \\\\\n",
       " - d1 - u3 \\\\\n",
       " - d3 - u3 \\\\\n",
       " - l1 - u3 \\\\\n",
       "d3 - d1 \\\\\n",
       "l1 - d1 \\\\\n",
       "l1 - d3 \\\\\n",
       "\\end{array}\n",
       "\\right]\n",
       "\\end{equation}\n"
      ],
      "text/plain": [
       "20-element Vector{Num}:\n",
       "  u1 - u3\n",
       "  d1 + u1\n",
       "  d3 + u1\n",
       "  l1 + u1\n",
       "  d1 + u3\n",
       "  d3 + u3\n",
       "  l1 + u3\n",
       "  d1 - d3\n",
       "  d1 - l1\n",
       "  d3 - l1\n",
       "  u3 - u1\n",
       " -d1 - u1\n",
       " -d3 - u1\n",
       " -l1 - u1\n",
       " -d1 - u3\n",
       " -d3 - u3\n",
       " -l1 - u3\n",
       "  d3 - d1\n",
       "  l1 - d1\n",
       "  l1 - d3"
      ]
     },
     "metadata": {},
     "output_type": "display_data"
    }
   ],
   "source": [
    "bilins = get_bilins(yukawa)"
   ]
  },
  {
   "cell_type": "code",
   "execution_count": 10,
   "metadata": {},
   "outputs": [
    {
     "data": {
      "text/plain": [
       "(Num[l1 + 2u1 - u3, 2d3 + 2u1, l1 + u3 - d1 - u1, 2l1 - 2d1, u3 + 2d1 - d3, u3 + 2d3 - l1, d1 + 2u3 - u1, d1 + l1 + u3 - d3, l1 + 2u3 - u1, 2l1 + 2u1  …  u1 + 2d3 - d1, d3 + l1 + 2u3, 2d3 + 2u3, d3 + l1 + u1 + u3, 2l1 - 2d3, d1 + l1 + u1 + u3, u1 + u3 + 2l1, d3 + 2u1 - u3, d1 + d3 + u1 - l1, u1 + 2d1 - l1], [1, 4, 2, 4, 1, 1, 1, 2, 1, 4  …  1, 1, 4, 2, 4, 2, 1, 1, 2, 1])"
      ]
     },
     "metadata": {},
     "output_type": "display_data"
    }
   ],
   "source": [
    "quads, qmultis = get_quads(yukawa)"
   ]
  },
  {
   "cell_type": "markdown",
   "metadata": {},
   "source": [
    "What we got here is not potential terms, but rather the conditions on the fermion/ Higgs doublet charges corresponding to the specific potential terms. Note that while in the definition of the yukawa sector e.g. `u1` stood for the Higgs doublet, i.e. H<sub>u<sub>1</sub></sub>, it now stands for the respective charge. So `u1` now means $\\chi$<sub>u<sub>1</sub></sub>.\n",
    "\n",
    "We use these conditions together with the orthogonality relation to find which combination of conditions allows for which values in PQ charges. Let us assume we found `u1 = 1`, `u3 = 3.5`, `d1 = 2`, `d3 = 0` and `l1 = 1`. We can then calculate the anomalies as well as the anomaly ratio."
   ]
  },
  {
   "cell_type": "code",
   "execution_count": 35,
   "metadata": {},
   "outputs": [
    {
     "data": {
      "text/plain": [
       "true"
      ]
     },
     "metadata": {},
     "output_type": "display_data"
    }
   ],
   "source": [
    "Nf = get_Nfunc(yukawa)\n",
    "Nf([1,1.5,2,0,1]) == N([1,1,1.5,2,2,0,1,1,1]...) == 3.75"
   ]
  },
  {
   "cell_type": "code",
   "execution_count": 36,
   "metadata": {},
   "outputs": [
    {
     "data": {
      "text/plain": [
       "true"
      ]
     },
     "metadata": {},
     "output_type": "display_data"
    }
   ],
   "source": [
    "EoNf = get_EoNfunc(yukawa)\n",
    "EoNf([1,1.5,2,0,1]) == EoverN([1,1,1.5,2,2,0,1,1,1]...) == 2.4"
   ]
  },
  {
   "cell_type": "markdown",
   "metadata": {},
   "source": [
    "But hold up! If `N = 3.75` and $N_{DW} = 2 N$, then $N_{DW} = 7.5$. This is impossible! $N_{DW}$ has to be integer! So what is going on?\n",
    "\n",
    "If we write `u1 = 1` this implies units of the charge of the Higgs singlet $\\chi_s$. The anomaly ratio itself is independent of $\\chi_s$, but $E$ or $N$ are not. We therefore see that in our little example $\\chi_s = 1$ is impossible, $\\chi_s = 2$ has to be chosen!"
   ]
  },
  {
   "cell_type": "markdown",
   "metadata": {},
   "source": [
    "## Calculating all $n_D = 4$ models\n",
    "\n",
    "We can now move on to actually doing the calculation of the charges!"
   ]
  },
  {
   "cell_type": "code",
   "execution_count": 44,
   "metadata": {},
   "outputs": [],
   "source": [
    "dataset = \"test5\";"
   ]
  },
  {
   "cell_type": "markdown",
   "metadata": {},
   "source": [
    "The code below will compute all models for $n_D = 4$ and write the results into a h5 and a human readable textfile like the ones provided with the package. If the folder `dataset` does not exist, it will create a new one. Execution should take O(seconds)."
   ]
  },
  {
   "cell_type": "code",
   "execution_count": 46,
   "metadata": {},
   "outputs": [
    {
     "name": "stdout",
     "output_type": "stream",
     "text": [
      "Num[u1, u1, u3, d1, d1, d1, l1, l1, l1]\n"
     ]
    },
    {
     "name": "stderr",
     "output_type": "stream",
     "text": [
      "┌ Info: Total number of models to be calculated above 2520\n",
      "└ @ Main /home/th347/diehl/Documents/2111-DFSZ/src/helpers.jl:920\n"
     ]
    },
    {
     "ename": "ErrorException",
     "evalue": "cannot create dataset: object \"n4_u1_u1_u3_d1_d1_d1_l1_l1_l1/bl=u1 - u3/Chis\" already exists at /",
     "output_type": "error",
     "traceback": [
      "cannot create dataset: object \"n4_u1_u1_u3_d1_d1_d1_l1_l1_l1/bl=u1 - u3/Chis\" already exists at /\n",
      "\n",
      "Stacktrace:\n",
      "  [1] error(::String, ::String, ::String, ::String)\n",
      "    @ Base ./error.jl:44\n",
      "  [2] create_dataset(parent::HDF5.File, path::String, dtype::HDF5.Datatype, dspace::HDF5.Dataspace; pv::Base.Pairs{Symbol, Union{}, Tuple{}, NamedTuple{(), Tuple{}}})\n",
      "    @ HDF5 ~/.julia/packages/HDF5/pIJra/src/HDF5.jl:732\n",
      "  [3] create_dataset\n",
      "    @ ~/.julia/packages/HDF5/pIJra/src/HDF5.jl:728 [inlined]\n",
      "  [4] create_dataset(parent::HDF5.File, name::String, data::Matrix{Float64}; pv::Base.Pairs{Symbol, Union{}, Tuple{}, NamedTuple{(), Tuple{}}})\n",
      "    @ HDF5 ~/.julia/packages/HDF5/pIJra/src/HDF5.jl:1530\n",
      "  [5] create_dataset\n",
      "    @ ~/.julia/packages/HDF5/pIJra/src/HDF5.jl:1526 [inlined]\n",
      "  [6] write_dataset(parent::HDF5.File, name::String, data::Matrix{Float64}; pv::Base.Pairs{Symbol, Union{}, Tuple{}, NamedTuple{(), Tuple{}}})\n",
      "    @ HDF5 ~/.julia/packages/HDF5/pIJra/src/HDF5.jl:1549\n",
      "  [7] write_dataset\n",
      "    @ ~/.julia/packages/HDF5/pIJra/src/HDF5.jl:1548 [inlined]\n",
      "  [8] #write#75\n",
      "    @ ~/.julia/packages/HDF5/pIJra/src/HDF5.jl:1594 [inlined]\n",
      "  [9] write\n",
      "    @ ~/.julia/packages/HDF5/pIJra/src/HDF5.jl:1594 [inlined]\n",
      " [10] h5write(filename::String, name::String, data::Matrix{Float64}; pv::Base.Pairs{Symbol, Union{}, Tuple{}, NamedTuple{(), Tuple{}}})\n",
      "    @ HDF5 ~/.julia/packages/HDF5/pIJra/src/HDF5.jl:481\n",
      " [11] h5write\n",
      "    @ ~/.julia/packages/HDF5/pIJra/src/HDF5.jl:478 [inlined]\n",
      " [12] save_full(model::Vector{Num}, proc_rs::Vector{SVector{4, Float64}}, EoN_rs::Vector{Float64}, rs_ws::Vector{Int64}, myterms::Matrix{String}, i::Int64; folder::String, bilin::Num, ms::Vector{Int64}, model_multiplicity::Int64, full::Bool)\n",
      "    @ Main ~/Documents/2111-DFSZ/src/helpers.jl:613\n",
      " [13] macro expansion\n",
      "    @ ~/Documents/2111-DFSZ/src/helpers.jl:967 [inlined]\n",
      " [14] macro expansion\n",
      "    @ ./timing.jl:263 [inlined]\n",
      " [15] macro expansion\n",
      "    @ ~/Documents/2111-DFSZ/src/helpers.jl:922 [inlined]\n",
      " [16] macro expansion\n",
      "    @ ./timing.jl:263 [inlined]\n",
      " [17] runDFSZ_saveall(dataset::String, model_vec::Vector{Vector{Num}}; model_multiplicity::Vector{Any}, log_calculate_all_models_if_below::Int64, sample_models_factor::Float64)\n",
      "    @ Main ~/Documents/2111-DFSZ/src/helpers.jl:912\n",
      " [18] top-level scope\n",
      "    @ ~/Documents/2111-DFSZ/example.ipynb:2\n",
      " [19] eval\n",
      "    @ ./boot.jl:368 [inlined]\n",
      " [20] include_string(mapexpr::typeof(REPL.softscope), mod::Module, code::String, filename::String)\n",
      "    @ Base ./loading.jl:1428\n",
      " [21] #invokelatest#2\n",
      "    @ ./essentials.jl:729 [inlined]\n",
      " [22] invokelatest\n",
      "    @ ./essentials.jl:726 [inlined]\n",
      " [23] (::VSCodeServer.var\"#164#165\"{VSCodeServer.NotebookRunCellArguments, String})()\n",
      "    @ VSCodeServer ~/.vscode-server/extensions/julialang.language-julia-1.6.24/scripts/packages/VSCodeServer/src/serve_notebook.jl:19\n",
      " [24] withpath(f::VSCodeServer.var\"#164#165\"{VSCodeServer.NotebookRunCellArguments, String}, path::String)\n",
      "    @ VSCodeServer ~/.vscode-server/extensions/julialang.language-julia-1.6.24/scripts/packages/VSCodeServer/src/repl.jl:184\n",
      " [25] notebook_runcell_request(conn::VSCodeServer.JSONRPC.JSONRPCEndpoint{Base.PipeEndpoint, Base.PipeEndpoint}, params::VSCodeServer.NotebookRunCellArguments)\n",
      "    @ VSCodeServer ~/.vscode-server/extensions/julialang.language-julia-1.6.24/scripts/packages/VSCodeServer/src/serve_notebook.jl:13\n",
      " [26] dispatch_msg(x::VSCodeServer.JSONRPC.JSONRPCEndpoint{Base.PipeEndpoint, Base.PipeEndpoint}, dispatcher::VSCodeServer.JSONRPC.MsgDispatcher, msg::Dict{String, Any})\n",
      "    @ VSCodeServer.JSONRPC ~/.vscode-server/extensions/julialang.language-julia-1.6.24/scripts/packages/JSONRPC/src/typed.jl:67\n",
      " [27] serve_notebook(pipename::String, outputchannel_logger::Base.CoreLogging.SimpleLogger; crashreporting_pipename::String)\n",
      "    @ VSCodeServer ~/.vscode-server/extensions/julialang.language-julia-1.6.24/scripts/packages/VSCodeServer/src/serve_notebook.jl:136\n",
      " [28] top-level scope\n",
      "    @ ~/.vscode-server/extensions/julialang.language-julia-1.6.24/scripts/notebook/notebook.jl:32\n",
      " [29] include(mod::Module, _path::String)\n",
      "    @ Base ./Base.jl:419\n",
      " [30] exec_options(opts::Base.JLOptions)\n",
      "    @ Base ./client.jl:303\n",
      " [31] _start()\n",
      "    @ Base ./client.jl:522"
     ]
    }
   ],
   "source": [
    "models, mmultis = model_list(nD=[4])\n",
    "runDFSZ_saveall(dataset, models; model_multiplicity=mmultis);\n",
    "h5totxt(filename; folder=\"./data/DFSZ_models/\"*dataset*\"/\")"
   ]
  },
  {
   "cell_type": "code",
   "execution_count": null,
   "metadata": {},
   "outputs": [],
   "source": []
  }
 ],
 "metadata": {
  "kernelspec": {
   "display_name": "Julia 1.8.0",
   "language": "julia",
   "name": "julia-1.8"
  },
  "language_info": {
   "file_extension": ".jl",
   "mimetype": "application/julia",
   "name": "julia",
   "version": "1.8.0"
  },
  "orig_nbformat": 4
 },
 "nbformat": 4,
 "nbformat_minor": 2
}
